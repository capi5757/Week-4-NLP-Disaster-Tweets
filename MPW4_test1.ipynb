{
 "cells": [
  {
   "cell_type": "markdown",
   "id": "d3a620a7",
   "metadata": {},
   "source": [
    "# Week 4 : NLP Disaster Tweets Kaggle Mini-Project\n",
    "\n",
    "## Brief Description of Problem and Data\n",
    "\n",
    "Twitter is a social network that has become an important communication channel in times of emergency. Due to its simplicity and practicality, people can announce an emergency in real-time. The purpose of this competition is to build  machine learning model that has the capability to predict which tweets refers to real disasters and which ones does not.\n",
    "\n",
    "For this project, I will use Natural Language Processing (NLP) ; specifically LSTM to produce the predictions.The data which is comprised of 10,000 hand-classified tweets is taken from Kaggle's website in [HERE](https://www.kaggle.com/competitions/nlp-getting-started/data) and is in form of text or string. \n",
    "\n",
    "As this was my first time working with NLP, I used several tutorials and other projects as guidance(see last section for references).\n",
    "\n",
    "First, I imported all the packages and libraries needed for the project."
   ]
  },
  {
   "cell_type": "code",
   "execution_count": 5,
   "id": "ef72cdd6",
   "metadata": {},
   "outputs": [
    {
     "name": "stderr",
     "output_type": "stream",
     "text": [
      "[nltk_data] Downloading package stopwords to\n",
      "[nltk_data]     C:\\Users\\pietr\\AppData\\Roaming\\nltk_data...\n",
      "[nltk_data]   Package stopwords is already up-to-date!\n",
      "[nltk_data] Downloading package punkt to\n",
      "[nltk_data]     C:\\Users\\pietr\\AppData\\Roaming\\nltk_data...\n",
      "[nltk_data]   Package punkt is already up-to-date!\n"
     ]
    }
   ],
   "source": [
    "import numpy as np \n",
    "import pandas as pd \n",
    "from sklearn import feature_extraction, linear_model, model_selection, preprocessing, metrics, ensemble\n",
    "from sklearn.feature_extraction.text import CountVectorizer, TfidfVectorizer\n",
    "import plotly\n",
    "import plotly.graph_objs as go\n",
    "import plotly.figure_factory as ff\n",
    "import plotly.express as px\n",
    "from plotly.subplots import make_subplots\n",
    "import pandas as pd\n",
    "import numpy as np\n",
    "import seaborn as sns\n",
    "import matplotlib.pyplot as plt\n",
    "%matplotlib inline\n",
    "from collections import defaultdict\n",
    "import re\n",
    "import nltk \n",
    "nltk.download('stopwords')\n",
    "from nltk.corpus import stopwords\n",
    "from nltk.tokenize import word_tokenize \n",
    "from nltk.stem import SnowballStemmer\n",
    "nltk.download('punkt')\n",
    "import tensorflow as tf\n",
    "from tensorflow.keras.models import Model\n",
    "from tensorflow.keras.preprocessing.text import Tokenizer\n",
    "from tensorflow.keras.preprocessing.sequence import pad_sequences\n",
    "from tensorflow.keras.layers import Conv1D, Bidirectional, LSTM, Dense, Dropout, Input\n",
    "from tensorflow.keras.optimizers import Adam\n",
    "from gensim.scripts.glove2word2vec import glove2word2vec\n",
    "import zipfile\n",
    "import urllib.request"
   ]
  },
  {
   "cell_type": "markdown",
   "id": "61dc4b60",
   "metadata": {},
   "source": [
    "## Exploratory Data Analysis (EDA)\n",
    "\n",
    "After loading the libraries, I proceeded to import the required datasets. The next two lines helped me to understand how does a \"disaster tweet\" and a \"non-disaster tweet\" look like through a couple of examples. \n",
    "\n",
    "In general, the train dataset consists of 7,613 rows with 5 columns in which I only focused on 2 : \"text\" (actual tweet message) and \"target\" (value that helps to identify if its a non disaster of if its a real disaster).\n",
    "\n",
    "Then, I generated a couple of charts to help me understand the data distribution between these two values (disaster vs non-disaster) and the word count in the tweets to see if there were some texts with a less words than others.\n",
    "\n",
    "Finally, I went through a process of cleaning to remove content that is not needed for the model. Examples of this content are removing URLs, numbers, stop words and special characters. \n",
    "\n",
    "I'll go in more detail before the respective lines of codes.\n",
    "\n",
    "\n"
   ]
  },
  {
   "cell_type": "code",
   "execution_count": 7,
   "id": "8e32456f",
   "metadata": {},
   "outputs": [],
   "source": [
    "train_df = pd.read_csv(\"C:/Users/pietr/OneDrive/Documentos/Masters Degree/Introduction to Deep Learning/MPW4/data/train.csv\")\n",
    "test_df = pd.read_csv(\"C:/Users/pietr/OneDrive/Documentos/Masters Degree/Introduction to Deep Learning/MPW4/data/test.csv\")"
   ]
  },
  {
   "cell_type": "code",
   "execution_count": 47,
   "id": "9f0f7cf8",
   "metadata": {},
   "outputs": [
    {
     "data": {
      "text/plain": [
       "'My car is so fast'"
      ]
     },
     "execution_count": 47,
     "metadata": {},
     "output_type": "execute_result"
    }
   ],
   "source": [
    "train_df[train_df[\"target\"] == 0][\"text\"].values[3]"
   ]
  },
  {
   "cell_type": "code",
   "execution_count": 48,
   "id": "96548040",
   "metadata": {},
   "outputs": [
    {
     "data": {
      "text/plain": [
       "\"I'm on top of the hill and I can see a fire in the woods...\""
      ]
     },
     "execution_count": 48,
     "metadata": {},
     "output_type": "execute_result"
    }
   ],
   "source": [
    "train_df[train_df[\"target\"] == 1][\"text\"].values[7]"
   ]
  },
  {
   "cell_type": "code",
   "execution_count": 49,
   "id": "a322de75",
   "metadata": {},
   "outputs": [
    {
     "data": {
      "text/html": [
       "<div>\n",
       "<style scoped>\n",
       "    .dataframe tbody tr th:only-of-type {\n",
       "        vertical-align: middle;\n",
       "    }\n",
       "\n",
       "    .dataframe tbody tr th {\n",
       "        vertical-align: top;\n",
       "    }\n",
       "\n",
       "    .dataframe thead th {\n",
       "        text-align: right;\n",
       "    }\n",
       "</style>\n",
       "<table border=\"1\" class=\"dataframe\">\n",
       "  <thead>\n",
       "    <tr style=\"text-align: right;\">\n",
       "      <th></th>\n",
       "      <th>id</th>\n",
       "      <th>keyword</th>\n",
       "      <th>location</th>\n",
       "      <th>text</th>\n",
       "      <th>target</th>\n",
       "    </tr>\n",
       "  </thead>\n",
       "  <tbody>\n",
       "    <tr>\n",
       "      <th>0</th>\n",
       "      <td>1</td>\n",
       "      <td>NaN</td>\n",
       "      <td>NaN</td>\n",
       "      <td>Our Deeds are the Reason of this #earthquake M...</td>\n",
       "      <td>1</td>\n",
       "    </tr>\n",
       "    <tr>\n",
       "      <th>1</th>\n",
       "      <td>4</td>\n",
       "      <td>NaN</td>\n",
       "      <td>NaN</td>\n",
       "      <td>Forest fire near La Ronge Sask. Canada</td>\n",
       "      <td>1</td>\n",
       "    </tr>\n",
       "    <tr>\n",
       "      <th>2</th>\n",
       "      <td>5</td>\n",
       "      <td>NaN</td>\n",
       "      <td>NaN</td>\n",
       "      <td>All residents asked to 'shelter in place' are ...</td>\n",
       "      <td>1</td>\n",
       "    </tr>\n",
       "    <tr>\n",
       "      <th>3</th>\n",
       "      <td>6</td>\n",
       "      <td>NaN</td>\n",
       "      <td>NaN</td>\n",
       "      <td>13,000 people receive #wildfires evacuation or...</td>\n",
       "      <td>1</td>\n",
       "    </tr>\n",
       "    <tr>\n",
       "      <th>4</th>\n",
       "      <td>7</td>\n",
       "      <td>NaN</td>\n",
       "      <td>NaN</td>\n",
       "      <td>Just got sent this photo from Ruby #Alaska as ...</td>\n",
       "      <td>1</td>\n",
       "    </tr>\n",
       "    <tr>\n",
       "      <th>5</th>\n",
       "      <td>8</td>\n",
       "      <td>NaN</td>\n",
       "      <td>NaN</td>\n",
       "      <td>#RockyFire Update =&gt; California Hwy. 20 closed...</td>\n",
       "      <td>1</td>\n",
       "    </tr>\n",
       "    <tr>\n",
       "      <th>6</th>\n",
       "      <td>10</td>\n",
       "      <td>NaN</td>\n",
       "      <td>NaN</td>\n",
       "      <td>#flood #disaster Heavy rain causes flash flood...</td>\n",
       "      <td>1</td>\n",
       "    </tr>\n",
       "    <tr>\n",
       "      <th>7</th>\n",
       "      <td>13</td>\n",
       "      <td>NaN</td>\n",
       "      <td>NaN</td>\n",
       "      <td>I'm on top of the hill and I can see a fire in...</td>\n",
       "      <td>1</td>\n",
       "    </tr>\n",
       "    <tr>\n",
       "      <th>8</th>\n",
       "      <td>14</td>\n",
       "      <td>NaN</td>\n",
       "      <td>NaN</td>\n",
       "      <td>There's an emergency evacuation happening now ...</td>\n",
       "      <td>1</td>\n",
       "    </tr>\n",
       "    <tr>\n",
       "      <th>9</th>\n",
       "      <td>15</td>\n",
       "      <td>NaN</td>\n",
       "      <td>NaN</td>\n",
       "      <td>I'm afraid that the tornado is coming to our a...</td>\n",
       "      <td>1</td>\n",
       "    </tr>\n",
       "  </tbody>\n",
       "</table>\n",
       "</div>"
      ],
      "text/plain": [
       "   id keyword location                                               text  \\\n",
       "0   1     NaN      NaN  Our Deeds are the Reason of this #earthquake M...   \n",
       "1   4     NaN      NaN             Forest fire near La Ronge Sask. Canada   \n",
       "2   5     NaN      NaN  All residents asked to 'shelter in place' are ...   \n",
       "3   6     NaN      NaN  13,000 people receive #wildfires evacuation or...   \n",
       "4   7     NaN      NaN  Just got sent this photo from Ruby #Alaska as ...   \n",
       "5   8     NaN      NaN  #RockyFire Update => California Hwy. 20 closed...   \n",
       "6  10     NaN      NaN  #flood #disaster Heavy rain causes flash flood...   \n",
       "7  13     NaN      NaN  I'm on top of the hill and I can see a fire in...   \n",
       "8  14     NaN      NaN  There's an emergency evacuation happening now ...   \n",
       "9  15     NaN      NaN  I'm afraid that the tornado is coming to our a...   \n",
       "\n",
       "   target  \n",
       "0       1  \n",
       "1       1  \n",
       "2       1  \n",
       "3       1  \n",
       "4       1  \n",
       "5       1  \n",
       "6       1  \n",
       "7       1  \n",
       "8       1  \n",
       "9       1  "
      ]
     },
     "execution_count": 49,
     "metadata": {},
     "output_type": "execute_result"
    }
   ],
   "source": [
    "train_df.head(10)"
   ]
  },
  {
   "cell_type": "code",
   "execution_count": 50,
   "id": "1b9c54b1",
   "metadata": {},
   "outputs": [
    {
     "name": "stdout",
     "output_type": "stream",
     "text": [
      "<class 'pandas.core.frame.DataFrame'>\n",
      "RangeIndex: 7613 entries, 0 to 7612\n",
      "Data columns (total 5 columns):\n",
      " #   Column    Non-Null Count  Dtype \n",
      "---  ------    --------------  ----- \n",
      " 0   id        7613 non-null   int64 \n",
      " 1   keyword   7552 non-null   object\n",
      " 2   location  5080 non-null   object\n",
      " 3   text      7613 non-null   object\n",
      " 4   target    7613 non-null   int64 \n",
      "dtypes: int64(2), object(3)\n",
      "memory usage: 297.5+ KB\n"
     ]
    }
   ],
   "source": [
    "train_df.info()"
   ]
  },
  {
   "cell_type": "markdown",
   "id": "6db5e50c",
   "metadata": {},
   "source": [
    "The following bar plot tells us that the train dataframe is comprised of ~ 60% of non-disaster tweets and ~ %40 of real disaster tweets. "
   ]
  },
  {
   "cell_type": "code",
   "execution_count": 32,
   "id": "8e68da70",
   "metadata": {},
   "outputs": [
    {
     "data": {
      "image/png": "[encoded data removed]",
      "text/plain": [
       "<Figure size 1000x800 with 1 Axes>"
      ]
     },
     "metadata": {},
     "output_type": "display_data"
    }
   ],
   "source": [
    "plt.figure(figsize=(10,8))\n",
    "ax = train_df['target'].value_counts().sort_values().plot(kind=\"barh\")\n",
    "ax.grid(axis=\"y\")\n",
    "plt.suptitle(\"Target Value Counts\", fontsize=20)\n",
    "plt.show()\n"
   ]
  },
  {
   "cell_type": "markdown",
   "id": "b6bbf22e",
   "metadata": {},
   "source": [
    "Next, I generated this histogram to understand the distribution of tweets based on its word count. The majority of tweets are between 11 to 19 words.Considering this, I took the decision of removing tweets with less than 2 words and with more than 25 words in order to optimize training. "
   ]
  },
  {
   "cell_type": "code",
   "execution_count": 40,
   "id": "4cf41228",
   "metadata": {},
   "outputs": [
    {
     "name": "stderr",
     "output_type": "stream",
     "text": [
      "C:\\Users\\pietr\\anaconda3\\lib\\site-packages\\seaborn\\distributions.py:2619: FutureWarning:\n",
      "\n",
      "`distplot` is a deprecated function and will be removed in a future version. Please adapt your code to use either `displot` (a figure-level function with similar flexibility) or `histplot` (an axes-level function for histograms).\n",
      "\n"
     ]
    },
    {
     "data": {
      "image/png": "[encoded data removed]",
      "text/plain": [
       "<Figure size 1500x800 with 1 Axes>"
      ]
     },
     "metadata": {},
     "output_type": "display_data"
    },
    {
     "name": "stdout",
     "output_type": "stream",
     "text": [
      "25th percentile:  11.0\n",
      "mean:  15.0\n",
      "75th percentile:  19.0\n"
     ]
    }
   ],
   "source": [
    "plt.figure(figsize=(15,8))\n",
    "train_df['word_count'] = train_df['text'].apply(lambda x: len(x.split(\" \")) )\n",
    "sns.distplot(train_df['word_count'].values, hist=True, kde=True, kde_kws={\"shade\": True})\n",
    "plt.axvline(train_df['word_count'].describe()['25%'], ls=\"--\")\n",
    "plt.axvline(train_df['word_count'].describe()['50%'], ls=\"--\")\n",
    "plt.axvline(train_df['word_count'].describe()['75%'], ls=\"--\")\n",
    "\n",
    "plt.grid()\n",
    "plt.suptitle(\"Histogram showing Word Count for Tweets in dataset\")\n",
    "plt.show()\n",
    "\n",
    "\n",
    "train_df = train_df[train_df['word_count']>2]\n",
    "train_df = train_df.reset_index()\n",
    "\n",
    "print(\"25th percentile: \", train_df['word_count'].describe()['25%'])\n",
    "print(\"mean: \", train_df['word_count'].describe()['50%'])\n",
    "print(\"75th percentile: \", train_df['word_count'].describe()['75%'])\n",
    "\n"
   ]
  },
  {
   "cell_type": "markdown",
   "id": "57c6375c",
   "metadata": {},
   "source": [
    "The final step of the EDA is the cleaning process. In here, I'll remove content from the training dataframe that's not needed like numbers and URLs.  \n",
    "\n",
    "Through this step, I was able to get familiar with the following concept:\n",
    "* **Stemming** -> Used to reduce extra characters or letters from a word to its root (\"player\" / \"playing\" -> \"play\")\n",
    "* **Stop Words** > Words that are commonly used in a language (examples in English : \"Than\", \"that\", \"is\", \"are) . The reason why they are used in NLP is to eliminate words that are very common in the respective language that they don't have or carry information that can be useful. \n",
    "\n",
    "In the end, I combined columns \"keyword\" and \"text\" into one feature to simplify the handling of data\n",
    "\n",
    "I got both tools from NLKT library."
   ]
  },
  {
   "cell_type": "code",
   "execution_count": 8,
   "id": "cdffb6a0",
   "metadata": {},
   "outputs": [],
   "source": [
    "# Clean text columns\n",
    "clean_stop_words = set(stopwords.words('english'))\n",
    "use_stemmer = SnowballStemmer('english')\n",
    "\n",
    "\n",
    "def clean_text(each_text):\n",
    "\n",
    "    # remove URL from text\n",
    "    no_url_text = re.sub(r\"http\\S+\", \"\", each_text)\n",
    "    \n",
    "    # remove numbers from text\n",
    "    no_num_text = re.sub(r'\\d+', '', no_url_text)\n",
    "\n",
    "    # tokenize each text\n",
    "    text_tokens = word_tokenize(no_num_text)\n",
    "    \n",
    "    # remove spatial character\n",
    "    clean_text = []\n",
    "    for word in text_tokens:\n",
    "        clean_text.append(\"\".join([b for b in word if b.isalnum()]))\n",
    "\n",
    "    # remove stop words and lower\n",
    "    no_stop_word_text = [c.lower() for c in clean_text if not c in clean_stop_words]  \n",
    "\n",
    "    # do stemming\n",
    "    stem_text = [use_stemmer.stem(c) for c in no_stop_word_text]\n",
    "    \n",
    "    return \" \".join(\" \".join(stem_text).split())\n",
    "\n",
    "\n",
    "train_df['clean_text'] = train_df['text'].apply(lambda x: clean_text(x) )\n",
    "train_df['keyword'] = train_df['keyword'].fillna(\"none\")\n",
    "train_df['clean_keyword'] = train_df['keyword'].apply(lambda x: clean_text(x))\n",
    "\n",
    "# Combine column 'clean_keyword' and 'clean_text' into one\n",
    "train_df['keyword_text'] = train_df['clean_keyword'] + \" \" + train_df[\"clean_text\"]\n"
   ]
  },
  {
   "cell_type": "markdown",
   "id": "e3023673",
   "metadata": {},
   "source": [
    "## Model's Architecture\n",
    "For this project I chose to use LSTM (Long Short Term Memory network) to train my RNN model as it is the one we reviewed throug the course. This type of model is able to remember data for a long period of time as it has an internal memory system.\n",
    "\n",
    "As I did in the previous project, the first step was to split the train dataframe into two ( \"train\" and \"test\" ) through the Sklearn's \"train_test_split\" function. "
   ]
  },
  {
   "cell_type": "code",
   "execution_count": 9,
   "id": "c48df8f3",
   "metadata": {},
   "outputs": [],
   "source": [
    "feature = 'keyword_text'\n",
    "label = \"target\"\n",
    "\n",
    "# split train and test\n",
    "X_train, X_test,y_train, y_test = model_selection.train_test_split(train_df[feature],\n",
    "                                                                   train_df[label],\n",
    "                                                                   test_size=0.3,\n",
    "                                                                   random_state=0, \n",
    "                                                                   shuffle=True)"
   ]
  },
  {
   "cell_type": "markdown",
   "id": "3715e737",
   "metadata": {},
   "source": [
    "In addition, I decided to use GloVe to process texts to matrix or vectors. The following two set of codes helped me to import the glove dataset required for the model's hyperparameter. "
   ]
  },
  {
   "cell_type": "code",
   "execution_count": 113,
   "id": "b9f46381",
   "metadata": {},
   "outputs": [
    {
     "data": {
      "text/plain": [
       "('C:/Users/pietr/OneDrive/Documentos/Masters Degree/Introduction to Deep Learning/MPW4glove.6B.zip',\n",
       " <http.client.HTTPMessage at 0x2c35f15d850>)"
      ]
     },
     "execution_count": 113,
     "metadata": {},
     "output_type": "execute_result"
    }
   ],
   "source": [
    "path = 'C:/Users/pietr/OneDrive/Documentos/Masters Degree/Introduction to Deep Learning/MPW4'\n",
    "res_path = path+'results/'\n",
    " \n",
    "urllib.request.urlretrieve(\"http://nlp.stanford.edu/data/glove.6B.zip\", path + 'glove.6B.zip')"
   ]
  },
  {
   "cell_type": "code",
   "execution_count": 114,
   "id": "ffc27f7a",
   "metadata": {},
   "outputs": [],
   "source": [
    "with zipfile.ZipFile(path + \"glove.6B.zip\",\"r\") as zip_ref:\n",
    "    zip_ref.extractall(path)"
   ]
  },
  {
   "cell_type": "markdown",
   "id": "27cba4e3",
   "metadata": {},
   "source": [
    "First, I defined the hyperparameters used for the model. As I learned in the previous project, if I want to improve the performance of my model, I would come back to this section and play around with these values.\n",
    "\n",
    "Next, I created train and test labels to understand the shape of the data. This is an important step because neural networks need inputs with same shape and size. "
   ]
  },
  {
   "cell_type": "code",
   "execution_count": 10,
   "id": "9a25b1c9",
   "metadata": {},
   "outputs": [],
   "source": [
    "# Define hyperparameters\n",
    "path_to_glove_file = 'C:/Users/pietr/OneDrive/Documentos/Masters Degree/Introduction to Deep Learning/MPW4/glove.6B.300d.txt' # download link: http://nlp.stanford.edu/data/glove.6B.zip\n",
    "embed_dim = 300\n",
    "learning_rate = 1e-3\n",
    "batch_size = 1024\n",
    "epochs = 20\n",
    "sequence_len = 100"
   ]
  },
  {
   "cell_type": "code",
   "execution_count": 11,
   "id": "4872248a",
   "metadata": {},
   "outputs": [
    {
     "name": "stdout",
     "output_type": "stream",
     "text": [
      "Training Y : (5329, 1)\n",
      "Testing Y : (2284, 1)\n"
     ]
    }
   ],
   "source": [
    "# Define train and test labels\n",
    "y_train_LSTM = y_train.values.reshape(-1,1)\n",
    "y_test_LSTM = y_test.values.reshape(-1,1)\n",
    "\n",
    "print(\"Training Y :\", y_train_LSTM.shape)\n",
    "print(\"Testing Y :\", y_test_LSTM.shape)"
   ]
  },
  {
   "cell_type": "markdown",
   "id": "9499e5a3",
   "metadata": {},
   "source": [
    "Another new concept that I learned in this project is \"Tokenization\". Tokenization is the process of breaking phrases into a series of words or characters called \"tokens\". This is an intermediate step in the process of vectorization (which is the technique of mapping words to vector of numbers).\n",
    "\n",
    "I performed the \"tokenization\" by using the Keras library."
   ]
  },
  {
   "cell_type": "code",
   "execution_count": 12,
   "id": "36460dad",
   "metadata": {},
   "outputs": [
    {
     "name": "stdout",
     "output_type": "stream",
     "text": [
      "Vocabulary Size:  11271\n"
     ]
    }
   ],
   "source": [
    "# Tokenize train data\n",
    "token= Tokenizer()\n",
    "token.fit_on_texts(X_train)\n",
    "\n",
    "word_index = token.word_index\n",
    "vocab_size = len(word_index) + 1\n",
    "print(\"Vocabulary Size: \", vocab_size)"
   ]
  },
  {
   "cell_type": "markdown",
   "id": "fc94489d",
   "metadata": {},
   "source": [
    "After performing the tokenization, I proceeded to do a \"padding\" step in order to ensure that we have the same size and shape of inputs. This is useful as we know that every tweet has different number of words. Padding allows us to establish a max number for each tweet and drop or fill words in order to get the same number through the process. "
   ]
  },
  {
   "cell_type": "code",
   "execution_count": 13,
   "id": "c5e41560",
   "metadata": {},
   "outputs": [
    {
     "name": "stdout",
     "output_type": "stream",
     "text": [
      "Training X :  (5329, 100)\n",
      "Testing X :  (2284, 100)\n"
     ]
    }
   ],
   "source": [
    "# Pad train and test \n",
    "X_train = pad_sequences(token.texts_to_sequences(X_train), maxlen=sequence_len)\n",
    "X_test = pad_sequences(token.texts_to_sequences(X_test), maxlen=sequence_len)\n",
    "\n",
    "print(\"Training X : \", X_train.shape)\n",
    "print(\"Testing X : \", X_test.shape)"
   ]
  },
  {
   "cell_type": "markdown",
   "id": "984661b4",
   "metadata": {},
   "source": [
    "The following steps are related with Word Embedding, which is a process where words that have the same meaning have a similar representation; this is done by mapping each word to a vector.\n",
    "\n",
    "Once word embeddings are read through GloVe, the next step is to create the layers through Keras."
   ]
  },
  {
   "cell_type": "code",
   "execution_count": 14,
   "id": "e5b444cc",
   "metadata": {},
   "outputs": [
    {
     "name": "stdout",
     "output_type": "stream",
     "text": [
      "Found 400000 word vectors.\n"
     ]
    }
   ],
   "source": [
    "# Read word embeddings\n",
    "embed_index = {}\n",
    "f=open(path_to_glove_file,encoding=\"utf8\")\n",
    "for line in f:\n",
    "    word, coefs = line.split(maxsplit=1)\n",
    "    coefs = np.fromstring(coefs, \"f\", sep=\" \")\n",
    "    embed_index[word] = coefs\n",
    "\n",
    "print(\"Found %s word vectors.\" % len(embed_index))"
   ]
  },
  {
   "cell_type": "code",
   "execution_count": 15,
   "id": "f0337993",
   "metadata": {},
   "outputs": [],
   "source": [
    "# Define embedding layer in Keras\n",
    "embed_matrix = np.zeros((vocab_size, embed_dim))\n",
    "for word, i in word_index.items():\n",
    "    embed_vector = embed_index.get(word)\n",
    "    if embed_vector is not None:\n",
    "        embed_matrix[i] = embed_vector\n",
    "        \n",
    "embed_layer = tf.keras.layers.Embedding(vocab_size,\n",
    "                                            embed_dim,\n",
    "                                            weights=[embed_matrix],\n",
    "                                            input_length=sequence_len,\n",
    "                                            trainable=False)"
   ]
  },
  {
   "cell_type": "markdown",
   "id": "efe1f272",
   "metadata": {},
   "source": [
    "Once the word embedding process finishes, the next step is to define the model's architecture. For this project, I chose to start with the embedded layer created in the previous step in order to generate an embedding vector for each sequence. Then, I applied what I learned from my previous project by using a convolutional model as this is again, another binary classification problem ( real disaster = \"1\" , non-disaster = \"0\"). In addition, I also applied the same optimization model: Adam optimization with binary_crossentropy as a loss function. "
   ]
  },
  {
   "cell_type": "code",
   "execution_count": 17,
   "id": "68b96bd7",
   "metadata": {},
   "outputs": [
    {
     "name": "stdout",
     "output_type": "stream",
     "text": [
      "Model: \"model_1\"\n",
      "_________________________________________________________________\n",
      " Layer (type)                Output Shape              Param #   \n",
      "=================================================================\n",
      " input_2 (InputLayer)        [(None, 100)]             0         \n",
      "                                                                 \n",
      " embedding (Embedding)       (None, 100, 300)          3381300   \n",
      "                                                                 \n",
      " conv1d_1 (Conv1D)           (None, 96, 128)           192128    \n",
      "                                                                 \n",
      " bidirectional_1 (Bidirectio  (None, 256)              263168    \n",
      " nal)                                                            \n",
      "                                                                 \n",
      " dense_3 (Dense)             (None, 512)               131584    \n",
      "                                                                 \n",
      " dropout_1 (Dropout)         (None, 512)               0         \n",
      "                                                                 \n",
      " dense_4 (Dense)             (None, 512)               262656    \n",
      "                                                                 \n",
      " dense_5 (Dense)             (None, 1)                 513       \n",
      "                                                                 \n",
      "=================================================================\n",
      "Total params: 4,231,349\n",
      "Trainable params: 850,049\n",
      "Non-trainable params: 3,381,300\n",
      "_________________________________________________________________\n"
     ]
    }
   ],
   "source": [
    "# Define model architecture\n",
    "seq_input = Input(shape=(sequence_len, ), dtype='int32')\n",
    "embed_sequences = embed_layer(seq_input)\n",
    "\n",
    "x = Conv1D(128, 5, activation='relu')(embed_sequences)\n",
    "x = Bidirectional(LSTM(128, dropout=0.5, recurrent_dropout=0.2))(x)\n",
    "x = Dense(512, activation='relu')(x)\n",
    "x = Dropout(0.5)(x)\n",
    "x = Dense(512, activation='relu')(x)\n",
    "outputs = Dense(1, activation='sigmoid')(x)\n",
    "RNN_model = Model(seq_input, outputs)\n",
    "RNN_model.summary()"
   ]
  },
  {
   "cell_type": "code",
   "execution_count": 20,
   "id": "7657ee2c",
   "metadata": {},
   "outputs": [],
   "source": [
    "# Optimize the model\n",
    "model.compile(optimizer=Adam(learning_rate=learning_rate), loss='binary_crossentropy', metrics=['accuracy'])"
   ]
  },
  {
   "cell_type": "markdown",
   "id": "8c58a186",
   "metadata": {},
   "source": [
    "Finally, we get to the training step. As it happened to me before, I had to lower down the epochs to 10 due to the processing capabilities of my computer. In general, I believe I got a very good performance of 0.965 accuracy and a 0.090of loss."
   ]
  },
  {
   "cell_type": "code",
   "execution_count": 21,
   "id": "5809a51f",
   "metadata": {},
   "outputs": [
    {
     "name": "stdout",
     "output_type": "stream",
     "text": [
      "Epoch 1/10\n",
      "167/167 [==============================] - 147s 811ms/step - loss: 0.5322 - accuracy: 0.7433 - val_loss: 0.4860 - val_accuracy: 0.7815\n",
      "Epoch 2/10\n",
      "167/167 [==============================] - 137s 820ms/step - loss: 0.4576 - accuracy: 0.7926 - val_loss: 0.4782 - val_accuracy: 0.7903\n",
      "Epoch 3/10\n",
      "167/167 [==============================] - 136s 817ms/step - loss: 0.3839 - accuracy: 0.8289 - val_loss: 0.5716 - val_accuracy: 0.7780\n",
      "Epoch 4/10\n",
      "167/167 [==============================] - 137s 822ms/step - loss: 0.3199 - accuracy: 0.8660 - val_loss: 0.5114 - val_accuracy: 0.7736\n",
      "Epoch 5/10\n",
      "167/167 [==============================] - 136s 815ms/step - loss: 0.2383 - accuracy: 0.9049 - val_loss: 0.6803 - val_accuracy: 0.7697\n",
      "Epoch 6/10\n",
      "167/167 [==============================] - 136s 817ms/step - loss: 0.1890 - accuracy: 0.9278 - val_loss: 0.6795 - val_accuracy: 0.7675\n",
      "Epoch 7/10\n",
      "167/167 [==============================] - 138s 825ms/step - loss: 0.1449 - accuracy: 0.9430 - val_loss: 0.8003 - val_accuracy: 0.7614\n",
      "Epoch 8/10\n",
      "167/167 [==============================] - 136s 817ms/step - loss: 0.1286 - accuracy: 0.9506 - val_loss: 0.9027 - val_accuracy: 0.7391\n",
      "Epoch 9/10\n",
      "167/167 [==============================] - 136s 816ms/step - loss: 0.0995 - accuracy: 0.9612 - val_loss: 1.0713 - val_accuracy: 0.7723\n",
      "Epoch 10/10\n",
      "167/167 [==============================] - 139s 833ms/step - loss: 0.0901 - accuracy: 0.9651 - val_loss: 1.0218 - val_accuracy: 0.7644\n"
     ]
    }
   ],
   "source": [
    "# LSTM model Training Process\n",
    "RNN_model = model.fit(X_train,\n",
    "                    y_train,\n",
    "                    batch_size=32,\n",
    "                    epochs=10, \n",
    "                    validation_data=(X_test, y_test))"
   ]
  },
  {
   "cell_type": "markdown",
   "id": "40809a15",
   "metadata": {},
   "source": [
    "The following plot helped me to understand better the model's performance by plotting Accuracy versus Training losses. We can see that the model's accuracy increases while loss decreases through the epochs as expected."
   ]
  },
  {
   "cell_type": "code",
   "execution_count": 23,
   "id": "543b95e6",
   "metadata": {},
   "outputs": [
    {
     "data": {
      "image/png": "[encoded data removed]",
      "text/plain": [
       "<Figure size 1000x400 with 1 Axes>"
      ]
     },
     "metadata": {},
     "output_type": "display_data"
    }
   ],
   "source": [
    "# Plotting train accuracy and loss\n",
    "accur= RNN_model.history['accuracy']\n",
    "losses = RNN_model.history['loss']\n",
    "accur_losses = list(zip(accur,losses))\n",
    "\n",
    "accur_losses_df = pd.DataFrame(accur_losses, columns={\"Losses\", \"Accuracies\"})\n",
    "\n",
    "plt.figure(figsize=(10,4))\n",
    "plt.suptitle(\"Train Accuracy vs Train Loss\")\n",
    "sns.lineplot(data=accur_losses_df)\n",
    "plt.show()"
   ]
  },
  {
   "cell_type": "markdown",
   "id": "8b2b507d",
   "metadata": {},
   "source": [
    "## Results and Analysis\n",
    "\n",
    "After the training, I'll evaluate the model's performance and accuracy. For this step, I'll get the F-score and generate a confusion matirix, which besides helping me to perform the analysis, it also helped me to grasp better the concepts.\n",
    "\n",
    "F-score is the harmonic mean of recall and precision. Recall relates to how many of the total number of data that were correctly labeled as positive, were actually positive  whereas Precision relates to how many of the total number of data that were correctly labeled as positive, were labeled positive correctly.\n",
    "\n",
    "In regards of the confusion matrix, it is a table that shows the model's performance in comparison to two classes, which in this case would be\"0\"s and \"1\"s. \n",
    "\n",
    "The report shown below is based on calculations of true and false positives and true and false negatives. I got an F-score of 0.81 for \"0\" and 0.70 for  \"1\" with an accuracy of 0.76.\n",
    "\n",
    "In general, my model had a better performance detecting non-disaster tweets (\"0\") than real disaster tweets (\"1\")."
   ]
  },
  {
   "cell_type": "code",
   "execution_count": 24,
   "id": "69da44d7",
   "metadata": {},
   "outputs": [
    {
     "name": "stdout",
     "output_type": "stream",
     "text": [
      "1/1 [==============================] - 4s 4s/step\n",
      "1/1 [==============================] - 3s 3s/step - loss: 1.0218 - accuracy: 0.7644\n",
      "Test Accuracy:  0.764448344707489\n",
      "              precision    recall  f1-score   support\n",
      "\n",
      "           0       0.78      0.83      0.81      1338\n",
      "           1       0.74      0.67      0.70       946\n",
      "\n",
      "    accuracy                           0.76      2284\n",
      "   macro avg       0.76      0.75      0.75      2284\n",
      "weighted avg       0.76      0.76      0.76      2284\n",
      "\n"
     ]
    }
   ],
   "source": [
    "# Evaluate the model\n",
    "predicted = model.predict(X_test, verbose=1, batch_size=10000)\n",
    "\n",
    "y_predicted = [1 if each > 0.5 else 0 for each in predicted]\n",
    "\n",
    "score, test_accuracy = model.evaluate(X_test, y_test, batch_size=10000)\n",
    "\n",
    "print(\"Test Accuracy: \", test_accuracy)\n",
    "print(metrics.classification_report(list(y_test), y_predicted))"
   ]
  },
  {
   "cell_type": "code",
   "execution_count": 319,
   "id": "4d1cb5d1",
   "metadata": {},
   "outputs": [
    {
     "data": {
      "image/png": "[encoded data removed]",
      "text/plain": [
       "<Figure size 640x480 with 1 Axes>"
      ]
     },
     "metadata": {},
     "output_type": "display_data"
    }
   ],
   "source": [
    "# Plot confusion matrix\n",
    "conf_matrix = metrics.confusion_matrix(y_test, y_predicted)\n",
    "\n",
    "fig, ax = plt.subplots()\n",
    "sns.heatmap(conf_matrix, cbar=False, cmap='Blues', annot=True, fmt='d')\n",
    "ax.set(xlabel=\"Predicted Value\", ylabel=\"True Value\", title=\"Model's Confusion Matrix\")\n",
    "ax.set_yticklabels(labels=['0', '1'], rotation=0)\n",
    "plt.show()"
   ]
  },
  {
   "cell_type": "markdown",
   "id": "af148d26",
   "metadata": {},
   "source": [
    "## Preparation for Data Submission\n",
    "\n",
    "This final step has to do with preparing the data for submission to Kaggle's website. The competition requires to have the results in a csv file with 3,263 rows and a header.\n",
    "\n",
    "First, I uploaded the sample dataset to apply my model to. I did some padding and confirmed that the dataset had indeed the 3,263 reqiured values. Then, I used my model on this dataset to perform the predictions.\n",
    "\n",
    "Finally, I added I column to the sample dataset containing my model's results and exported it to a .csv file."
   ]
  },
  {
   "cell_type": "code",
   "execution_count": 320,
   "id": "8852adcf",
   "metadata": {},
   "outputs": [],
   "source": [
    "sample_submission = pd.read_csv(\"C:/Users/pietr/OneDrive/Documentos/Masters Degree/Introduction to Deep Learning/MPW4/data/sample_submission.csv\")"
   ]
  },
  {
   "cell_type": "code",
   "execution_count": 326,
   "id": "57ba4546",
   "metadata": {},
   "outputs": [
    {
     "name": "stdout",
     "output_type": "stream",
     "text": [
      "(3263, 100)\n"
     ]
    }
   ],
   "source": [
    "X_val= test_df['text']\n",
    "X_val = pad_sequences(token.texts_to_sequences(X_val), maxlen=sequence_len)\n",
    "print(X_val.shape)"
   ]
  },
  {
   "cell_type": "code",
   "execution_count": 329,
   "id": "5222e65f",
   "metadata": {},
   "outputs": [
    {
     "name": "stdout",
     "output_type": "stream",
     "text": [
      "1/1 [==============================] - 4s 4s/step\n",
      "[0, 0, 1, 0, 1, 0, 0, 0, 0, 0, 0, 0, 0, 0, 0, 1, 0, 0, 0, 0, 0, 0, 0, 0, 0, 0, 0, 1, 0, 1, 0, 0, 1, 1, 1, 0, 0, 0, 0, 0, 0, 1, 0, 0, 0, 0, 0, 0, 0, 0, 0, 0, 0, 0, 0, 1, 0, 0, 0, 0, 0, 0, 0, 1, 1, 0, 0, 1, 0, 1, 0, 1, 1, 1, 1, 1, 0, 0, 0, 1, 0, 0, 0, 0, 1, 0, 0, 0, 0, 0, 0, 0, 0, 0, 0, 0, 0, 0, 0, 0, 0, 0, 0, 0, 0, 1, 1, 0, 0, 1, 1, 0, 0, 0, 1, 1, 0, 1, 1, 0, 1, 1, 1, 1, 0, 0, 0, 0, 0, 0, 0, 0, 0, 0, 0, 0, 0, 0, 0, 0, 0, 0, 0, 0, 0, 0, 1, 0, 0, 0, 0, 0, 0, 0, 0, 0, 0, 0, 0, 0, 0, 0, 0, 0, 0, 0, 1, 1, 0, 1, 1, 1, 1, 0, 0, 0, 0, 1, 1, 0, 1, 0, 0, 1, 0, 1, 0, 0, 0, 0, 0, 0, 1, 0, 0, 0, 1, 0, 1, 1, 1, 0, 0, 0, 0, 0, 0, 1, 0, 0, 0, 0, 0, 0, 1, 0, 0, 0, 0, 0, 0, 0, 0, 0, 0, 0, 0, 0, 1, 0, 0, 0, 0, 0, 0, 0, 0, 0, 0, 0, 0, 0, 0, 0, 0, 0, 0, 0, 0, 1, 0, 0, 0, 0, 0, 0, 1, 0, 0, 0, 0, 0, 1, 0, 0, 0, 0, 0, 0, 0, 1, 0, 0, 0, 0, 0, 0, 0, 0, 0, 1, 0, 1, 0, 0, 1, 1, 0, 0, 0, 0, 0, 0, 1, 0, 0, 0, 0, 1, 0, 0, 0, 0, 0, 0, 0, 0, 0, 1, 0, 0, 0, 1, 0, 0, 1, 0, 0, 1, 0, 0, 0, 0, 0, 0, 0, 0, 0, 0, 0, 0, 0, 0, 0, 0, 0, 0, 0, 0, 0, 0, 0, 0, 0, 0, 0, 0, 0, 0, 0, 1, 0, 0, 0, 0, 1, 1, 0, 0, 0, 0, 0, 0, 0, 0, 0, 0, 0, 0, 0, 0, 0, 0, 0, 1, 0, 0, 0, 0, 0, 0, 0, 0, 0, 0, 0, 0, 0, 0, 0, 0, 0, 0, 0, 0, 0, 0, 0, 0, 0, 0, 0, 0, 0, 0, 0, 0, 0, 0, 0, 0, 0, 0, 0, 0, 0, 0, 1, 0, 1, 0, 0, 0, 0, 1, 0, 0, 0, 0, 0, 0, 0, 0, 0, 0, 0, 0, 0, 0, 0, 0, 0, 0, 0, 0, 0, 0, 0, 0, 0, 0, 0, 0, 0, 0, 0, 0, 0, 0, 0, 0, 0, 0, 0, 1, 0, 0, 0, 0, 0, 1, 1, 1, 1, 0, 1, 1, 1, 1, 1, 0, 1, 0, 1, 0, 1, 0, 0, 0, 1, 1, 1, 1, 0, 0, 0, 0, 0, 1, 0, 1, 1, 1, 0, 1, 1, 1, 0, 1, 1, 1, 0, 0, 0, 1, 0, 0, 0, 0, 0, 0, 0, 1, 0, 0, 1, 0, 0, 1, 0, 0, 0, 0, 0, 0, 1, 0, 0, 0, 1, 0, 1, 0, 1, 0, 1, 0, 1, 1, 0, 1, 1, 1, 1, 1, 1, 0, 0, 1, 0, 0, 0, 0, 0, 1, 1, 0, 0, 1, 0, 0, 0, 0, 0, 0, 0, 0, 1, 0, 0, 0, 0, 0, 0, 0, 0, 0, 0, 0, 0, 0, 0, 1, 0, 1, 0, 0, 0, 1, 0, 0, 0, 0, 0, 0, 1, 0, 1, 1, 0, 0, 1, 1, 0, 1, 0, 0, 0, 0, 1, 0, 0, 1, 0, 0, 0, 0, 0, 1, 1, 1, 1, 1, 0, 0, 1, 0, 0, 0, 0, 0, 0, 1, 0, 0, 0, 0, 0, 1, 0, 0, 0, 0, 0, 1, 0, 0, 0, 0, 1, 0, 0, 0, 0, 0, 0, 0, 0, 1, 0, 0, 0, 0, 0, 0, 0, 0, 0, 0, 0, 0, 1, 0, 1, 0, 0, 0, 0, 0, 0, 0, 0, 1, 1, 0, 0, 0, 0, 0, 0, 0, 1, 0, 0, 0, 0, 0, 0, 0, 0, 0, 0, 0, 0, 0, 0, 0, 0, 0, 0, 0, 0, 0, 0, 0, 0, 0, 0, 0, 0, 0, 0, 0, 0, 0, 0, 0, 0, 0, 0, 0, 0, 0, 0, 0, 0, 0, 0, 0, 0, 0, 0, 0, 0, 0, 0, 0, 0, 0, 0, 0, 0, 0, 0, 0, 0, 1, 1, 1, 1, 0, 0, 0, 0, 0, 1, 0, 0, 0, 0, 1, 0, 0, 0, 1, 0, 1, 0, 0, 1, 1, 0, 0, 0, 0, 0, 0, 0, 1, 0, 1, 1, 1, 0, 0, 0, 1, 0, 0, 0, 0, 0, 0, 0, 0, 0, 0, 0, 0, 0, 0, 0, 0, 0, 0, 0, 0, 0, 0, 0, 0, 0, 0, 0, 1, 0, 0, 0, 0, 0, 0, 1, 0, 0, 1, 0, 0, 0, 0, 0, 0, 0, 0, 0, 0, 0, 0, 0, 0, 1, 0, 0, 0, 0, 0, 0, 0, 1, 1, 0, 0, 0, 1, 0, 0, 0, 0, 1, 0, 0, 0, 0, 0, 0, 0, 0, 0, 0, 0, 0, 1, 0, 0, 0, 0, 0, 0, 0, 0, 0, 0, 0, 0, 0, 0, 0, 0, 0, 1, 0, 1, 0, 0, 0, 0, 0, 0, 0, 0, 0, 0, 1, 0, 0, 0, 1, 0, 0, 0, 0, 0, 0, 0, 0, 0, 1, 0, 0, 0, 0, 1, 1, 1, 1, 0, 0, 1, 1, 1, 1, 0, 1, 1, 0, 0, 1, 0, 0, 1, 0, 1, 0, 0, 0, 0, 0, 1, 0, 0, 0, 0, 0, 0, 0, 0, 0, 0, 0, 0, 0, 0, 0, 0, 0, 0, 1, 0, 1, 0, 1, 0, 0, 0, 0, 0, 1, 1, 0, 0, 0, 0, 0, 0, 0, 0, 0, 0, 0, 1, 0, 0, 0, 1, 0, 0, 0, 0, 0, 0, 0, 0, 0, 0, 0, 0, 1, 0, 0, 0, 0, 1, 0, 0, 0, 0, 0, 1, 0, 0, 1, 0, 1, 0, 1, 1, 0, 0, 0, 0, 0, 0, 1, 1, 0, 1, 0, 1, 0, 0, 0, 1, 1, 1, 0, 1, 0, 1, 0, 0, 0, 1, 0, 1, 0, 1, 0, 0, 0, 0, 0, 0, 0, 0, 0, 0, 0, 0, 0, 0, 0, 0, 0, 0, 0, 0, 0, 0, 0, 0, 0, 0, 0, 0, 0, 0, 0, 0, 0, 0, 0, 0, 0, 0, 0, 0, 0, 0, 1, 0, 1, 1, 0, 0, 0, 1, 0, 0, 0, 1, 1, 1, 0, 0, 0, 0, 0, 0, 1, 0, 0, 1, 0, 0, 1, 0, 0, 0, 0, 0, 1, 1, 0, 0, 0, 0, 0, 0, 0, 0, 0, 0, 0, 0, 0, 0, 1, 0, 0, 0, 0, 0, 0, 0, 0, 0, 0, 0, 0, 0, 1, 0, 0, 0, 0, 1, 0, 0, 0, 0, 1, 0, 1, 0, 0, 0, 1, 0, 0, 0, 0, 0, 0, 0, 0, 1, 0, 0, 1, 1, 1, 0, 0, 0, 0, 1, 1, 1, 1, 0, 1, 0, 0, 0, 0, 0, 0, 0, 0, 0, 0, 0, 1, 0, 0, 0, 0, 1, 0, 0, 0, 1, 1, 0, 0, 0, 0, 1, 1, 0, 1, 1, 0, 1, 1, 1, 1, 1, 1, 0, 1, 0, 0, 0, 0, 0, 0, 0, 0, 0, 0, 0, 0, 0, 0, 0, 0, 0, 0, 0, 1, 1, 1, 1, 0, 1, 0, 0, 0, 1, 0, 0, 0, 0, 0, 0, 1, 0, 0, 0, 0, 1, 0, 0, 0, 0, 1, 0, 1, 1, 0, 1, 1, 0, 1, 0, 1, 0, 0, 0, 1, 1, 1, 0, 0, 1, 0, 0, 0, 1, 1, 0, 0, 0, 0, 0, 0, 0, 1, 0, 0, 0, 0, 1, 1, 0, 0, 0, 0, 0, 0, 0, 0, 1, 0, 0, 1, 0, 0, 0, 0, 0, 0, 0, 0, 0, 0, 1, 0, 0, 0, 0, 0, 0, 1, 0, 0, 0, 0, 0, 0, 0, 0, 0, 0, 0, 0, 0, 0, 1, 0, 0, 0, 0, 0, 0, 0, 0, 0, 0, 1, 0, 0, 0, 0, 0, 1, 0, 0, 0, 1, 0, 0, 0, 0, 0, 1, 0, 0, 0, 0, 0, 0, 1, 1, 0, 0, 0, 1, 0, 1, 0, 0, 0, 0, 1, 1, 0, 0, 1, 1, 0, 1, 0, 1, 0, 1, 1, 0, 1, 1, 0, 0, 0, 1, 0, 0, 0, 0, 0, 1, 1, 0, 1, 1, 0, 0, 0, 0, 0, 0, 0, 0, 0, 0, 0, 0, 0, 0, 0, 0, 0, 0, 0, 0, 1, 1, 0, 0, 0, 0, 0, 0, 0, 0, 1, 0, 0, 0, 0, 0, 1, 0, 0, 0, 0, 1, 0, 0, 0, 1, 0, 0, 1, 1, 0, 1, 1, 0, 0, 0, 0, 0, 0, 0, 1, 1, 0, 0, 1, 0, 0, 1, 1, 1, 0, 0, 1, 1, 1, 0, 0, 0, 0, 1, 1, 0, 0, 1, 0, 0, 0, 0, 0, 0, 0, 0, 1, 0, 0, 0, 0, 0, 0, 0, 0, 0, 0, 0, 0, 0, 0, 0, 1, 0, 0, 1, 0, 0, 0, 0, 0, 0, 0, 0, 0, 0, 1, 0, 1, 0, 1, 1, 0, 0, 0, 0, 0, 1, 1, 0, 1, 0, 0, 0, 0, 0, 0, 0, 1, 1, 1, 1, 0, 0, 0, 0, 0, 1, 0, 0, 0, 0, 1, 0, 0, 0, 0, 0, 0, 0, 0, 0, 0, 0, 0, 0, 0, 0, 0, 1, 0, 1, 0, 0, 0, 0, 0, 0, 0, 0, 0, 0, 0, 1, 1, 0, 0, 0, 0, 0, 0, 1, 1, 0, 0, 0, 0, 0, 0, 0, 0, 0, 0, 1, 0, 0, 0, 0, 1, 0, 0, 0, 0, 0, 1, 1, 0, 0, 1, 0, 1, 1, 1, 1, 0, 1, 0, 1, 1, 0, 0, 0, 1, 1, 1, 1, 0, 0, 0, 1, 1, 0, 1, 0, 0, 0, 1, 1, 0, 0, 1, 0, 1, 1, 1, 0, 0, 0, 0, 0, 0, 0, 1, 0, 1, 0, 0, 0, 1, 1, 0, 1, 0, 1, 1, 1, 0, 0, 0, 0, 0, 0, 0, 0, 0, 0, 0, 0, 0, 0, 0, 0, 0, 0, 0, 0, 0, 0, 0, 0, 0, 0, 0, 0, 0, 1, 1, 0, 0, 0, 0, 0, 0, 0, 0, 1, 0, 0, 0, 0, 0, 0, 0, 1, 0, 1, 1, 1, 0, 0, 0, 0, 1, 0, 0, 0, 0, 0, 0, 0, 1, 0, 0, 0, 0, 0, 0, 0, 0, 0, 0, 0, 0, 0, 0, 0, 0, 0, 0, 0, 0, 0, 0, 0, 0, 0, 0, 0, 0, 0, 0, 1, 0, 0, 0, 0, 0, 0, 0, 0, 0, 0, 0, 0, 0, 0, 0, 0, 0, 0, 0, 0, 0, 0, 0, 0, 1, 0, 1, 0, 1, 0, 1, 1, 0, 0, 0, 0, 0, 0, 0, 0, 1, 0, 1, 0, 1, 1, 0, 1, 1, 0, 1, 1, 0, 1, 0, 0, 0, 0, 0, 0, 0, 0, 0, 0, 1, 0, 1, 1, 1, 0, 1, 0, 1, 0, 0, 0, 1, 0, 1, 1, 0, 1, 0, 0, 0, 0, 0, 0, 0, 0, 0, 0, 0, 0, 0, 0, 1, 0, 0, 1, 1, 0, 0, 0, 0, 0, 0, 0, 0, 0, 0, 1, 0, 0, 0, 0, 0, 0, 0, 0, 0, 0, 0, 0, 0, 1, 1, 1, 0, 0, 0, 0, 0, 0, 0, 0, 1, 0, 0, 0, 0, 0, 0, 0, 0, 0, 0, 0, 0, 0, 0, 0, 0, 0, 1, 0, 0, 0, 0, 0, 0, 0, 0, 0, 0, 0, 0, 0, 1, 0, 0, 0, 0, 0, 0, 0, 0, 1, 1, 0, 0, 0, 0, 0, 0, 0, 0, 0, 0, 0, 0, 0, 0, 0, 0, 0, 0, 0, 1, 0, 1, 1, 0, 0, 1, 0, 0, 0, 1, 0, 1, 0, 0, 0, 1, 0, 0, 0, 0, 0, 0, 0, 0, 0, 0, 0, 0, 0, 0, 0, 0, 0, 1, 0, 0, 0, 1, 0, 0, 0, 0, 0, 0, 0, 0, 0, 0, 0, 0, 0, 0, 0, 0, 1, 1, 0, 0, 0, 0, 0, 0, 0, 0, 0, 0, 0, 0, 0, 0, 0, 0, 0, 0, 0, 0, 0, 0, 0, 0, 0, 0, 0, 0, 0, 0, 0, 0, 0, 1, 0, 0, 0, 0, 0, 1, 0, 0, 1, 0, 0, 0, 0, 0, 0, 0, 0, 0, 0, 1, 1, 0, 1, 0, 0, 0, 0, 0, 0, 0, 0, 0, 1, 1, 1, 1, 0, 0, 1, 0, 1, 0, 1, 1, 1, 0, 1, 1, 0, 1, 0, 0, 0, 0, 0, 1, 0, 0, 0, 0, 0, 1, 1, 0, 0, 0, 0, 0, 0, 0, 0, 1, 0, 0, 0, 0, 0, 0, 0, 0, 0, 0, 0, 0, 0, 0, 0, 0, 0, 0, 0, 0, 0, 0, 1, 0, 0, 0, 1, 1, 1, 0, 0, 0, 0, 0, 0, 0, 0, 0, 0, 0, 0, 0, 1, 0, 0, 0, 0, 0, 1, 0, 1, 1, 1, 1, 0, 0, 0, 1, 0, 1, 1, 0, 1, 1, 1, 1, 1, 1, 1, 1, 1, 1, 0, 0, 0, 0, 0, 0, 0, 0, 0, 0, 0, 0, 0, 0, 0, 0, 0, 1, 0, 0, 0, 0, 0, 0, 0, 0, 0, 0, 0, 0, 0, 0, 0, 0, 0, 0, 0, 0, 0, 0, 0, 0, 0, 1, 0, 0, 0, 0, 0, 1, 0, 0, 0, 1, 0, 0, 0, 0, 0, 0, 0, 0, 0, 0, 0, 0, 0, 1, 0, 0, 1, 0, 1, 0, 0, 0, 0, 1, 0, 1, 0, 0, 1, 0, 0, 0, 1, 1, 0, 0, 1, 0, 0, 1, 1, 0, 1, 0, 1, 0, 0, 1, 1, 0, 0, 0, 1, 0, 1, 0, 0, 0, 1, 1, 1, 0, 0, 0, 1, 1, 1, 0, 0, 0, 0, 0, 0, 1, 1, 0, 1, 0, 0, 1, 0, 1, 0, 0, 0, 0, 1, 0, 0, 0, 0, 0, 0, 0, 1, 0, 0, 0, 0, 0, 1, 1, 0, 1, 0, 1, 0, 0, 1, 0, 1, 1, 0, 0, 1, 0, 0, 0, 1, 0, 0, 0, 0, 0, 0, 0, 0, 0, 0, 0, 0, 0, 0, 0, 0, 0, 1, 1, 0, 0, 0, 0, 0, 0, 0, 0, 0, 0, 0, 0, 0, 0, 0, 0, 0, 1, 1, 0, 0, 0, 1, 0, 1, 0, 0, 1, 0, 0, 0, 0, 1, 0, 1, 1, 0, 0, 0, 0, 0, 0, 0, 0, 0, 0, 0, 0, 0, 0, 1, 1, 0, 1, 1, 1, 1, 0, 1, 1, 1, 1, 0, 0, 0, 0, 0, 0, 0, 0, 0, 0, 0, 0, 0, 0, 0, 0, 0, 0, 0, 0, 0, 0, 0, 0, 0, 0, 0, 0, 0, 0, 0, 0, 0, 0, 0, 0, 0, 0, 0, 0, 0, 0, 0, 0, 0, 0, 0, 0, 1, 0, 1, 1, 1, 0, 0, 1, 1, 0, 1, 0, 1, 0, 0, 0, 0, 1, 0, 0, 1, 0, 1, 0, 1, 0, 1, 1, 0, 0, 0, 0, 0, 0, 0, 0, 0, 0, 0, 0, 0, 0, 0, 0, 0, 0, 0, 0, 0, 0, 0, 0, 1, 0, 0, 0, 0, 0, 0, 0, 0, 0, 0, 0, 0, 0, 0, 0, 1, 0, 0, 0, 0, 0, 0, 0, 0, 0, 0, 0, 0, 0, 0, 0, 0, 0, 1, 0, 0, 0, 0, 0, 0, 0, 0, 0, 0, 0, 0, 0, 1, 0, 0, 1, 0, 1, 0, 0, 0, 0, 1, 1, 0, 0, 0, 0, 0, 0, 0, 0, 0, 0, 0, 0, 0, 0, 0, 0, 0, 0, 0, 1, 0, 0, 0, 0, 0, 0, 0, 1, 1, 1, 0, 0, 0, 0, 0, 1, 0, 0, 0, 0, 1, 0, 1, 1, 1, 1, 0, 1, 1, 1, 1, 1, 1, 0, 1, 1, 1, 1, 1, 1, 1, 1, 0, 1, 1, 1, 0, 1, 1, 1, 1, 1, 1, 1, 1, 1, 0, 0, 1, 0, 0, 1, 0, 1, 1, 1, 1, 0, 1, 1, 1, 1, 0, 1, 0, 1, 0, 1, 0, 0, 1, 0, 0, 0, 0, 0, 0, 0, 0, 0, 0, 0, 0, 0, 0, 0, 0, 0, 1, 0, 0, 0, 1, 0, 0, 0, 0, 0, 0, 0, 0, 0, 0, 0, 0, 0, 0, 0, 0, 1, 0, 1, 0, 0, 1, 0, 0, 1, 0, 0, 0, 1, 0, 1, 0, 0, 1, 0, 0, 1, 0, 0, 0, 0, 0, 0, 1, 0, 1, 1, 1, 0, 0, 0, 0, 1, 1, 1, 0, 1, 1, 1, 1, 1, 0, 1, 1, 0, 1, 0, 0, 1, 0, 1, 0, 0, 1, 0, 0, 0, 0, 0, 0, 0, 0, 0, 0, 0, 0, 0, 0, 0, 1, 1, 0, 1, 0, 1, 1, 0, 1, 1, 1, 1, 0, 1, 1, 0, 0, 1, 1, 0, 1, 1, 0, 1, 0, 1, 1, 0, 0, 0, 0, 1, 1, 0, 1, 0, 0, 0, 0, 1, 1, 0, 1, 1, 1, 0, 1, 0, 0, 0, 0, 0, 0, 0, 0, 0, 0, 0, 0, 0, 0, 0, 0, 0, 0, 0, 0, 1, 0, 0, 0, 0, 0, 0, 0, 0, 0, 0, 0, 0, 0, 0, 0, 1, 0, 0, 0, 0, 0, 0, 0, 1, 0, 0, 0, 0, 0, 0, 0, 0, 0, 1, 0, 0, 0, 0, 0, 0, 0, 0, 0, 0, 0, 0, 0, 0, 0, 0, 1, 0, 0, 0, 0, 0, 0, 0, 0, 0, 0, 0, 0, 0, 1, 1, 0, 0, 0, 0, 0, 0, 1, 1, 1, 1, 0, 1, 1, 1, 1, 1, 1, 1, 0, 0, 0, 0, 1, 0, 0, 0, 0, 0, 0, 0, 1, 1, 0, 1, 1, 1, 0, 1, 1, 1, 1, 1, 1, 1, 0, 1, 1, 0, 0, 0, 0, 0, 0, 0, 1, 0, 1, 0, 1, 1, 0, 1, 0, 0, 0, 0, 0, 1, 0, 0, 0, 0, 1, 0, 1, 0, 0, 0, 0, 0, 0, 1, 0, 0, 0, 0, 0, 0, 1, 0, 0, 1, 0, 1, 0, 0, 0, 0, 0, 1, 0, 0, 0, 0, 0, 0, 1, 1, 1, 0, 0, 1, 1, 0, 1, 1, 1, 0, 0, 1, 0, 1, 0, 1, 1, 0, 0, 1, 0, 1, 1, 0, 0, 1, 0, 1, 0, 1, 1, 0, 0, 1, 1, 0, 1, 1, 0, 0, 0, 0, 0, 0, 1, 1, 1, 0, 1, 1, 0, 0, 0, 1, 1, 1, 1, 0, 0, 0, 0, 0, 1, 0, 0, 1, 0, 0, 0, 1, 0, 0, 0, 0, 0, 0, 0, 0, 1, 0, 1, 0, 0, 0, 0, 0, 0, 1, 1, 0, 1, 1, 1, 1, 0, 1, 1, 1, 0, 0, 0, 1, 0, 0, 0, 0, 0, 0, 0, 1, 1, 1, 1, 0, 1, 0, 1, 0, 0, 0]\n"
     ]
    }
   ],
   "source": [
    "y_pred2 = model.predict(X_val,verbose=1, batch_size=10000)\n",
    "y_pred_adj = [1 if x >= 0.5 else 0 for x in y_pred2]\n",
    "print(y_pred_adj)"
   ]
  },
  {
   "cell_type": "code",
   "execution_count": 330,
   "id": "9db0f9d2",
   "metadata": {},
   "outputs": [
    {
     "data": {
      "text/html": [
       "<div>\n",
       "<style scoped>\n",
       "    .dataframe tbody tr th:only-of-type {\n",
       "        vertical-align: middle;\n",
       "    }\n",
       "\n",
       "    .dataframe tbody tr th {\n",
       "        vertical-align: top;\n",
       "    }\n",
       "\n",
       "    .dataframe thead th {\n",
       "        text-align: right;\n",
       "    }\n",
       "</style>\n",
       "<table border=\"1\" class=\"dataframe\">\n",
       "  <thead>\n",
       "    <tr style=\"text-align: right;\">\n",
       "      <th></th>\n",
       "      <th>id</th>\n",
       "      <th>target</th>\n",
       "    </tr>\n",
       "  </thead>\n",
       "  <tbody>\n",
       "    <tr>\n",
       "      <th>0</th>\n",
       "      <td>0</td>\n",
       "      <td>0</td>\n",
       "    </tr>\n",
       "    <tr>\n",
       "      <th>1</th>\n",
       "      <td>2</td>\n",
       "      <td>0</td>\n",
       "    </tr>\n",
       "    <tr>\n",
       "      <th>2</th>\n",
       "      <td>3</td>\n",
       "      <td>1</td>\n",
       "    </tr>\n",
       "    <tr>\n",
       "      <th>3</th>\n",
       "      <td>9</td>\n",
       "      <td>0</td>\n",
       "    </tr>\n",
       "    <tr>\n",
       "      <th>4</th>\n",
       "      <td>11</td>\n",
       "      <td>1</td>\n",
       "    </tr>\n",
       "  </tbody>\n",
       "</table>\n",
       "</div>"
      ],
      "text/plain": [
       "   id  target\n",
       "0   0       0\n",
       "1   2       0\n",
       "2   3       1\n",
       "3   9       0\n",
       "4  11       1"
      ]
     },
     "execution_count": 330,
     "metadata": {},
     "output_type": "execute_result"
    }
   ],
   "source": [
    "sample_submission['target'] = np.round(y_pred_adj).astype('int')\n",
    "sample_submission.head()"
   ]
  },
  {
   "cell_type": "code",
   "execution_count": 331,
   "id": "ba211291",
   "metadata": {},
   "outputs": [],
   "source": [
    "sample_submission.to_csv(\"submission_test1.csv\", index=False)"
   ]
  },
  {
   "cell_type": "markdown",
   "id": "16ebfd03",
   "metadata": {},
   "source": [
    "## Conclusion\n",
    "\n",
    "In conclusion, I enjoyed this project as I was able to use the knowledge I previously acquired plus the opportunity to learn new concepts and toolkits. This work is a result of all the resources I found and I was able to combine and put together as needed.\n",
    "\n",
    "I believe the accuracy and loss values delivered by my model are pretty good but I'm also aware that can be improven by updating input data, apply other training techniques or playing with the model's hyperparameters.\n",
    "\n",
    "As next steps, I would like to use at least three out of all the techniques I was able to find while I was investigating and figuring out how to do this task."
   ]
  },
  {
   "cell_type": "markdown",
   "id": "c2bb63cb",
   "metadata": {},
   "source": [
    "## References\n",
    "\n",
    "* Kaggle. NLP Getting Started Tutorial. https://www.kaggle.com/code/philculliton/nlp-getting-started-tutorial/notebook\n",
    "* Towards Data Science. Detecting Disaster from Tweets (Classical ML and LSTM Approach). https://towardsdatascience.com/detecting-disaster-from-tweets-classical-ml-and-lstm-approach-4566871af5f7\n",
    "* Opinosis Analytics. What are Stop Words? https://www.opinosis-analytics.com/knowledge-base/stop-words-explained/#:~:text=Stop%20words%20are%20a%20set,carry%20very%20little%20useful%20information.\n",
    "* Github. Machine Learning approach to predict real or fake tweets about disaster. https://github.com/raklugrin01/Disaster-Tweets-Analysis-and-Classification/blob/main/disaster-tweets-classification-using-ml.ipynb\n",
    "* Kaggle. NLP with Disaster Tweets using LSTM. https://www.kaggle.com/code/sandhyakrishnan02/nlp-with-disaster-tweets-using-lstm/notebook\n",
    "* TensorFlow. API Docs. https://www.tensorflow.org/api_docs/python/tf/keras/\n",
    "\n"
   ]
  },
  {
   "cell_type": "code",
   "execution_count": null,
   "id": "311adaa5",
   "metadata": {},
   "outputs": [],
   "source": []
  }
 ],
 "metadata": {
  "kernelspec": {
   "display_name": "Python 3 (ipykernel)",
   "language": "python",
   "name": "python3"
  },
  "language_info": {
   "codemirror_mode": {
    "name": "ipython",
    "version": 3
   },
   "file_extension": ".py",
   "mimetype": "text/x-python",
   "name": "python",
   "nbconvert_exporter": "python",
   "pygments_lexer": "ipython3",
   "version": "3.9.13"
  }
 },
 "nbformat": 4,
 "nbformat_minor": 5
}
